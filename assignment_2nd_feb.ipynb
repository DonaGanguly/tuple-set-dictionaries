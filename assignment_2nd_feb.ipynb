{
 "cells": [
  {
   "cell_type": "markdown",
   "id": "b66e94fc-fa29-4cbe-8e4b-69f027901ff7",
   "metadata": {},
   "source": [
    "### ASSIGNMENT ON 2ND FEBRUARY "
   ]
  },
  {
   "cell_type": "markdown",
   "id": "60261e64-ceb7-4faa-8573-f193d7d4a652",
   "metadata": {},
   "source": [
    "Q1. What are the characteristics of the tuples? Is tuple immutable?"
   ]
  },
  {
   "cell_type": "code",
   "execution_count": 36,
   "id": "483e729c-e30e-4910-a2b2-aca7c0868340",
   "metadata": {},
   "outputs": [],
   "source": [
    "### Characteristics: \n",
    "# 1.They are indexed (ordered).\n",
    "# 2.They are contain duplicate items.\n",
    "# 3.They contain elements of different data type. \n",
    "### Yes,Tuples are immutable,that is, it can't be be changed by using assignment operation."
   ]
  },
  {
   "cell_type": "markdown",
   "id": "0f4b0234-36a5-4474-a00b-2962fb9ade35",
   "metadata": {},
   "source": [
    "Q2.What are the two tuple methods in python? Give an example of each method. Give a reason why\n",
    "tuples have only two in-built methods as compared to Lists."
   ]
  },
  {
   "cell_type": "code",
   "execution_count": 4,
   "id": "cdb2c48d-f223-4fcc-9bab-96d5e454c984",
   "metadata": {},
   "outputs": [
    {
     "data": {
      "text/plain": [
       "2"
      ]
     },
     "execution_count": 4,
     "metadata": {},
     "output_type": "execute_result"
    }
   ],
   "source": [
    "### The two tuple methods available are tuple.count() and tuple.index()\n",
    "# Example :\n",
    "t=(5,6,7,45,4,1,4)\n",
    "t.count(4)"
   ]
  },
  {
   "cell_type": "code",
   "execution_count": 5,
   "id": "37e8d3f2-9d90-415c-a088-79625ebc3c5a",
   "metadata": {},
   "outputs": [
    {
     "data": {
      "text/plain": [
       "5"
      ]
     },
     "execution_count": 5,
     "metadata": {},
     "output_type": "execute_result"
    }
   ],
   "source": [
    "t.index(1)"
   ]
  },
  {
   "cell_type": "code",
   "execution_count": 6,
   "id": "e6e1104e-a9e5-4f63-9676-a6018a45bc3b",
   "metadata": {},
   "outputs": [],
   "source": [
    "### Tuples have only two in-built methods in comparison to Lists\n",
    "# Since tuples are immutable,once we create tuple we cannot modify its elements.Hence,not many operations can be performed.\n",
    "# so, number of in-built operations are reduced"
   ]
  },
  {
   "cell_type": "markdown",
   "id": "95315c80-1b01-4e3a-b614-1322b1774a20",
   "metadata": {},
   "source": [
    "Q3. Which collection datatypes in python do not allow duplicate items? Write a code using a set to remove\n",
    "duplicates from the given list.\n",
    "\n",
    "List = [1, 1, 1, 2, 1, 3, 1, 4, 2, 1, 2, 2, 2, 3, 2, 4, 3, 1, 3, 2, 3, 3, 3, 4, 4, 1, 4, 2, 4, 3, 4, 4]"
   ]
  },
  {
   "cell_type": "code",
   "execution_count": 8,
   "id": "35148752-45a0-4662-a81f-98a3c371490d",
   "metadata": {},
   "outputs": [
    {
     "data": {
      "text/plain": [
       "{1, 2, 3, 4}"
      ]
     },
     "execution_count": 8,
     "metadata": {},
     "output_type": "execute_result"
    }
   ],
   "source": [
    "### Set are the collection data which do not allow duplicate items.\n",
    "List = [1, 1, 1, 2, 1, 3, 1, 4, 2, 1, 2, 2, 2, 3, 2, 4, 3, 1, 3, 2, 3, 3, 3, 4, 4, 1, 4, 2, 4, 3, 4, 4]\n",
    "lst = set(List)\n",
    "lst"
   ]
  },
  {
   "cell_type": "markdown",
   "id": "bd1776f8-1909-4815-8df6-17682ac5aff2",
   "metadata": {},
   "source": [
    "Q4. Explain the difference between the union() and update() methods for a set. Give an example of\n",
    "each method."
   ]
  },
  {
   "cell_type": "code",
   "execution_count": 30,
   "id": "42de336e-6828-4ea4-b4a0-50728aa58944",
   "metadata": {},
   "outputs": [
    {
     "data": {
      "text/plain": [
       "{1, 3, 4, 4.5, 5, 6, 7, 8, 9}"
      ]
     },
     "execution_count": 30,
     "metadata": {},
     "output_type": "execute_result"
    }
   ],
   "source": [
    "s={1,5,8,4,1,8,3,7,9}\n",
    "s2={4.5,6}\n",
    "s.union(s2)"
   ]
  },
  {
   "cell_type": "code",
   "execution_count": 32,
   "id": "316f1b16-f238-42d9-9a8f-873a2d198168",
   "metadata": {},
   "outputs": [
    {
     "data": {
      "text/plain": [
       "{1, 3, 4, 5, 7, 8, 9}"
      ]
     },
     "execution_count": 32,
     "metadata": {},
     "output_type": "execute_result"
    }
   ],
   "source": [
    "s #doesn't change the original set "
   ]
  },
  {
   "cell_type": "code",
   "execution_count": 33,
   "id": "a642fba7-7310-4506-b460-21f1c591e893",
   "metadata": {},
   "outputs": [],
   "source": [
    "s={1,5,8,4,1,8,3,7,9}\n",
    "s2={4.5,6}\n",
    "s.update(s2)"
   ]
  },
  {
   "cell_type": "code",
   "execution_count": 35,
   "id": "c5712792-a2c4-4774-a8d5-cf613e4a249f",
   "metadata": {},
   "outputs": [
    {
     "data": {
      "text/plain": [
       "{1, 3, 4, 4.5, 5, 6, 7, 8, 9}"
      ]
     },
     "execution_count": 35,
     "metadata": {},
     "output_type": "execute_result"
    }
   ],
   "source": [
    "s # changes the original set"
   ]
  },
  {
   "cell_type": "markdown",
   "id": "3a00fba1-c7e7-4c11-b713-b3cf7d5e39be",
   "metadata": {},
   "source": [
    "The main difference between update function and union function in a set is that, union just return the union of two sets taken,that is ,take in the unique elements ,doesn't change the original set.On the other hand,in case of update function,it changes/alters the original set. "
   ]
  },
  {
   "cell_type": "markdown",
   "id": "2ec8806f-48ed-41ad-92fa-f322d7bf4a96",
   "metadata": {},
   "source": [
    "Q5. What is a dictionary? Give an example. Also, state whether a dictionary is ordered or unordered."
   ]
  },
  {
   "cell_type": "code",
   "execution_count": 1,
   "id": "2c22348f-241d-4bbd-803d-d99bc816764f",
   "metadata": {},
   "outputs": [],
   "source": [
    "### A Dictionary represents a group of elements arranged in form of key-value pairs\n",
    "d={'name':'Dona','pursuing':'B.Tech','stream':'E.C.E'}"
   ]
  },
  {
   "cell_type": "code",
   "execution_count": 2,
   "id": "405f2f47-22c2-4b73-b195-57d599ec6c0c",
   "metadata": {},
   "outputs": [
    {
     "data": {
      "text/plain": [
       "{'name': 'Dona', 'pursuing': 'B.Tech', 'stream': 'E.C.E'}"
      ]
     },
     "execution_count": 2,
     "metadata": {},
     "output_type": "execute_result"
    }
   ],
   "source": [
    "d"
   ]
  },
  {
   "cell_type": "code",
   "execution_count": 3,
   "id": "63ce46f7-7127-420d-a506-15eceb97cbf6",
   "metadata": {},
   "outputs": [],
   "source": [
    "### Dictionary is ordered,as it is stored in form of hashtable"
   ]
  },
  {
   "cell_type": "markdown",
   "id": "35104208-31e6-442e-a92d-2dae0691b0da",
   "metadata": {},
   "source": [
    "Q6. Can we create a nested dictionary? If so, please give an example by creating a simple one-level nested dictionary."
   ]
  },
  {
   "cell_type": "code",
   "execution_count": 6,
   "id": "fdd94c96-1936-40cc-b116-e758e7575b02",
   "metadata": {},
   "outputs": [],
   "source": [
    "### Yes,we can create Nested Dictionary\n",
    "### example: \n",
    "d={'a':{'b':'123'},'c':{'d':'555'}} #one-level nested dictionary"
   ]
  },
  {
   "cell_type": "code",
   "execution_count": 7,
   "id": "bb69f6ba-1e3e-4ecc-960e-2f02515441e0",
   "metadata": {},
   "outputs": [
    {
     "data": {
      "text/plain": [
       "{'a': {'b': '123'}, 'c': {'d': '555'}}"
      ]
     },
     "execution_count": 7,
     "metadata": {},
     "output_type": "execute_result"
    }
   ],
   "source": [
    "d"
   ]
  },
  {
   "cell_type": "markdown",
   "id": "feccf763-7c87-4378-b5b1-acb03487463e",
   "metadata": {},
   "source": [
    "Q7. Using setdefault() method, create key named topics in the given dictionary and \n",
    "also add the value of the key as this list ['Python', 'Machine Learning’, 'Deep Learning']"
   ]
  },
  {
   "cell_type": "code",
   "execution_count": 17,
   "id": "b965a19c-5b47-4938-bee4-04132decec51",
   "metadata": {},
   "outputs": [
    {
     "data": {
      "text/plain": [
       "'Deep Learning'"
      ]
     },
     "execution_count": 17,
     "metadata": {},
     "output_type": "execute_result"
    }
   ],
   "source": [
    "DS={}\n",
    "DS.setdefault('language','Python')\n",
    "DS.setdefault('Domain1','Machine Learning')\n",
    "DS.setdefault('Domain2','Deep Learning')"
   ]
  },
  {
   "cell_type": "code",
   "execution_count": 18,
   "id": "25de1cc7-fe7e-4780-bbea-c02d41b32d16",
   "metadata": {},
   "outputs": [
    {
     "data": {
      "text/plain": [
       "{'language': 'Python',\n",
       " 'Domain1': 'Machine Learning',\n",
       " 'Domain2': 'Deep Learning'}"
      ]
     },
     "execution_count": 18,
     "metadata": {},
     "output_type": "execute_result"
    }
   ],
   "source": [
    "DS"
   ]
  },
  {
   "cell_type": "markdown",
   "id": "3db7e36a-3413-480e-aa44-245fe05221d1",
   "metadata": {},
   "source": [
    "Q8. What are the three view objects in dictionaries?Use the three in-built methods in\n",
    "python to display these three view objects for the given dictionary.\n",
    "dict1 = {'Sport': 'Cricket' , 'Teams': ['India', 'Australia', 'England', 'South Africa', 'Sri Lanka', 'New Zealand']}"
   ]
  },
  {
   "cell_type": "code",
   "execution_count": 20,
   "id": "a22bf2d3-093e-4219-b791-2e10949f94ed",
   "metadata": {},
   "outputs": [
    {
     "data": {
      "text/plain": [
       "dict_keys(['Sport', 'Teams'])"
      ]
     },
     "execution_count": 20,
     "metadata": {},
     "output_type": "execute_result"
    }
   ],
   "source": [
    "### The three view objects of dictionary in python are keys, values and items.\n",
    "dict1 = {'Sport': 'Cricket' , 'Teams': ['India', 'Australia', 'England', 'South Africa', 'Sri Lanka', 'New Zealand']}\n",
    "dict1.keys()"
   ]
  },
  {
   "cell_type": "code",
   "execution_count": 21,
   "id": "18816bcf-90f0-4709-8efd-866189c127fa",
   "metadata": {},
   "outputs": [
    {
     "data": {
      "text/plain": [
       "dict_values(['Cricket', ['India', 'Australia', 'England', 'South Africa', 'Sri Lanka', 'New Zealand']])"
      ]
     },
     "execution_count": 21,
     "metadata": {},
     "output_type": "execute_result"
    }
   ],
   "source": [
    "dict1.values()"
   ]
  },
  {
   "cell_type": "code",
   "execution_count": 22,
   "id": "9e6bbf5a-2eff-45a6-8206-e3309d8c7356",
   "metadata": {},
   "outputs": [
    {
     "data": {
      "text/plain": [
       "dict_items([('Sport', 'Cricket'), ('Teams', ['India', 'Australia', 'England', 'South Africa', 'Sri Lanka', 'New Zealand'])])"
      ]
     },
     "execution_count": 22,
     "metadata": {},
     "output_type": "execute_result"
    }
   ],
   "source": [
    "dict1.items()"
   ]
  }
 ],
 "metadata": {
  "kernelspec": {
   "display_name": "Python 3 (ipykernel)",
   "language": "python",
   "name": "python3"
  },
  "language_info": {
   "codemirror_mode": {
    "name": "ipython",
    "version": 3
   },
   "file_extension": ".py",
   "mimetype": "text/x-python",
   "name": "python",
   "nbconvert_exporter": "python",
   "pygments_lexer": "ipython3",
   "version": "3.10.8"
  }
 },
 "nbformat": 4,
 "nbformat_minor": 5
}
